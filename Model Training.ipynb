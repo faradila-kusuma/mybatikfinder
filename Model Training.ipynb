{
 "cells": [
  {
   "cell_type": "code",
   "execution_count": 1,
   "metadata": {
    "id": "4JsejDm3uxTS",
    "tags": []
   },
   "outputs": [],
   "source": [
    "import tensorflow as tf\n",
    "import matplotlib.pyplot as plt"
   ]
  },
  {
   "cell_type": "markdown",
   "metadata": {
    "id": "i2w52yYrvTu9"
   },
   "source": [
    "## Preprocessing the Data"
   ]
  },
  {
   "cell_type": "code",
   "execution_count": 2,
   "metadata": {
    "colab": {
     "base_uri": "https://localhost:8080/"
    },
    "id": "Kjoa0oUHvQAv",
    "outputId": "35053f0d-5fd0-4b98-cd8f-fa0a88a79e8f",
    "tags": []
   },
   "outputs": [
    {
     "name": "stdout",
     "output_type": "stream",
     "text": [
      "Found 6382 files belonging to 104 classes.\n"
     ]
    }
   ],
   "source": [
    "training_set = tf.keras.utils.image_dataset_from_directory(\n",
    "    'my_dataset\\\\train',\n",
    "    labels=\"inferred\",\n",
    "    label_mode=\"categorical\",\n",
    "    class_names=None,\n",
    "    color_mode=\"rgb\",\n",
    "    batch_size=8,\n",
    "    image_size=(224, 224),\n",
    "    shuffle=True,\n",
    "    seed=None,\n",
    "    validation_split=None,\n",
    "    subset=None,\n",
    "    interpolation=\"bilinear\",\n",
    "    follow_links=False,\n",
    "    crop_to_aspect_ratio=False\n",
    ")"
   ]
  },
  {
   "cell_type": "code",
   "execution_count": 3,
   "metadata": {
    "colab": {
     "base_uri": "https://localhost:8080/"
    },
    "id": "Tocls4IowkNB",
    "outputId": "3b0d8b3d-8552-4e0f-c1f2-7c9f7e28a944",
    "tags": []
   },
   "outputs": [
    {
     "name": "stdout",
     "output_type": "stream",
     "text": [
      "Found 1337 files belonging to 104 classes.\n"
     ]
    }
   ],
   "source": [
    "test_set = tf.keras.utils.image_dataset_from_directory(\n",
    "    'my_dataset\\\\test',\n",
    "    labels=\"inferred\",\n",
    "    label_mode=\"categorical\",\n",
    "    class_names=None,\n",
    "    color_mode=\"rgb\",\n",
    "    batch_size=8,\n",
    "    image_size=(224, 224),\n",
    "    shuffle=False,\n",
    "    seed=None,\n",
    "    validation_split=None,\n",
    "    subset=None,\n",
    "    interpolation=\"bilinear\",\n",
    "    follow_links=False,\n",
    "    crop_to_aspect_ratio=False\n",
    ")"
   ]
  },
  {
   "cell_type": "markdown",
   "metadata": {},
   "source": [
    "## Training the Model"
   ]
  },
  {
   "cell_type": "code",
   "execution_count": 4,
   "metadata": {
    "scrolled": true,
    "tags": []
   },
   "outputs": [
    {
     "name": "stdout",
     "output_type": "stream",
     "text": [
      "Model: \"model\"\n",
      "_________________________________________________________________\n",
      " Layer (type)                Output Shape              Param #   \n",
      "=================================================================\n",
      " input_1 (InputLayer)        [(None, 224, 224, 3)]     0         \n",
      "                                                                 \n",
      " keras_layer (KerasLayer)    (None, 1001)              3540265   \n",
      "                                                                 \n",
      " dropout (Dropout)           (None, 1001)              0         \n",
      "                                                                 \n",
      " dense (Dense)               (None, 150)               150300    \n",
      "                                                                 \n",
      " dense_1 (Dense)             (None, 104)               15704     \n",
      "                                                                 \n",
      "=================================================================\n",
      "Total params: 3,706,269\n",
      "Trainable params: 3,672,157\n",
      "Non-trainable params: 34,112\n",
      "_________________________________________________________________\n"
     ]
    }
   ],
   "source": [
    "import tensorflow as tf\n",
    "import tensorflow_hub as hub\n",
    "from tensorflow.keras.models import Model\n",
    "from tensorflow.keras.layers import Dense, Dropout\n",
    "\n",
    "hub_url = \"https://tfhub.dev/google/tf2-preview/mobilenet_v2/classification/4\"\n",
    "base_model = hub.KerasLayer(hub_url, trainable=True)\n",
    "\n",
    "input_tensor = tf.keras.layers.Input(shape=(224, 224, 3))\n",
    "base_model_output = base_model(input_tensor)\n",
    "x = Dropout(0.6)(base_model_output)\n",
    "x = Dense(150, activation='relu')(x)\n",
    "output = Dense(104, activation='softmax')(x)  \n",
    "\n",
    "model = Model(inputs=input_tensor, outputs=output)\n",
    "\n",
    "optimizer = tf.keras.optimizers.Adam(learning_rate=0.0003)\n",
    "model.compile(optimizer=optimizer, loss='categorical_crossentropy', metrics=['accuracy'])\n",
    "\n",
    "model.summary()"
   ]
  },
  {
   "cell_type": "code",
   "execution_count": 5,
   "metadata": {},
   "outputs": [],
   "source": [
    "from tensorflow.keras.callbacks import EarlyStopping\n",
    "early_stopping = EarlyStopping(monitor='val_loss', patience=3, restore_best_weights=True)\n",
    "\n",
    "callbacks = [early_stopping]"
   ]
  },
  {
   "cell_type": "code",
   "execution_count": 6,
   "metadata": {},
   "outputs": [
    {
     "name": "stdout",
     "output_type": "stream",
     "text": [
      "Epoch 1/50\n",
      "798/798 [==============================] - 116s 111ms/step - loss: 2.6118 - accuracy: 0.4331 - val_loss: 1.5350 - val_accuracy: 0.6425\n",
      "Epoch 2/50\n",
      "798/798 [==============================] - 77s 97ms/step - loss: 1.2947 - accuracy: 0.7031 - val_loss: 1.0905 - val_accuracy: 0.7883\n",
      "Epoch 3/50\n",
      "798/798 [==============================] - 76s 95ms/step - loss: 0.9660 - accuracy: 0.7791 - val_loss: 1.2382 - val_accuracy: 0.7861\n",
      "Epoch 4/50\n",
      "798/798 [==============================] - 77s 96ms/step - loss: 0.7727 - accuracy: 0.8196 - val_loss: 1.1213 - val_accuracy: 0.8175\n",
      "Epoch 5/50\n",
      "798/798 [==============================] - 72s 90ms/step - loss: 0.6881 - accuracy: 0.8450 - val_loss: 1.4745 - val_accuracy: 0.7973\n"
     ]
    }
   ],
   "source": [
    "training_history = model.fit(x=training_set,validation_data=test_set,epochs=50,callbacks=callbacks)"
   ]
  },
  {
   "cell_type": "markdown",
   "metadata": {
    "id": "19E3mwj1phoW"
   },
   "source": [
    "## Evaluating the Model"
   ]
  },
  {
   "cell_type": "code",
   "execution_count": 7,
   "metadata": {},
   "outputs": [
    {
     "name": "stdout",
     "output_type": "stream",
     "text": [
      "798/798 [==============================] - 21s 26ms/step - loss: 0.6142 - accuracy: 0.8654\n",
      "Training accuracy: 0.8654026985168457\n"
     ]
    }
   ],
   "source": [
    "val_loss, val_acc = model.evaluate(training_set)\n",
    "print('Training accuracy:', val_acc)"
   ]
  },
  {
   "cell_type": "code",
   "execution_count": 8,
   "metadata": {
    "colab": {
     "base_uri": "https://localhost:8080/"
    },
    "id": "5SaQgd7bpgwl",
    "outputId": "0e82ce04-bdf8-4b31-bc00-cbb7198df7e7"
   },
   "outputs": [
    {
     "name": "stdout",
     "output_type": "stream",
     "text": [
      "168/168 [==============================] - 4s 26ms/step - loss: 1.0905 - accuracy: 0.7883\n",
      "Validation accuracy: 0.7883321046829224\n"
     ]
    }
   ],
   "source": [
    "val_loss, val_acc = model.evaluate(test_set)\n",
    "print('Validation accuracy:', val_acc)"
   ]
  },
  {
   "cell_type": "code",
   "execution_count": null,
   "metadata": {},
   "outputs": [],
   "source": [
    "import numpy as np\n",
    "from sklearn.metrics import confusion_matrix\n",
    "import seaborn as sns\n",
    "\n",
    "\n",
    "class_names = test_set.class_names\n",
    "num_classes = len(class_names)\n",
    "\n",
    "class_to_index = dict(zip(class_names, range(num_classes)))\n",
    "\n",
    "y_true = []\n",
    "for images, labels in test_set:\n",
    "    y_true.extend(np.argmax(labels.numpy(), axis=1))\n",
    "\n",
    "y_pred = model.predict(test_set)\n",
    "\n",
    "y_pred_classes = np.argmax(y_pred, axis=1)\n",
    "\n",
    "cm = confusion_matrix(y_true, y_pred_classes)\n",
    "\n",
    "plt.figure(figsize=(10, 8))\n",
    "sns.heatmap(cm, annot=True, fmt=\"d\", cmap=\"Blues\", xticklabels=class_names, yticklabels=class_names)\n",
    "plt.xlabel('Predicted')\n",
    "plt.ylabel('True')\n",
    "plt.title('Confusion Matrix')\n",
    "plt.show()"
   ]
  },
  {
   "cell_type": "markdown",
   "metadata": {},
   "source": [
    "## Save the Model"
   ]
  },
  {
   "cell_type": "code",
   "execution_count": 14,
   "metadata": {
    "id": "EEUrBzCrxKt_"
   },
   "outputs": [
    {
     "name": "stdout",
     "output_type": "stream",
     "text": [
      "INFO:tensorflow:Assets written to: model_batik_V2\\assets\n"
     ]
    },
    {
     "name": "stderr",
     "output_type": "stream",
     "text": [
      "INFO:tensorflow:Assets written to: model_batik_V2\\assets\n"
     ]
    }
   ],
   "source": [
    "model.save(\"model_batik_V2\", save_format='tf')\n",
    "\n",
    "loaded_model = tf.keras.models.load_model(\"model_batik_V2\", custom_objects={'KerasLayer': hub.KerasLayer})"
   ]
  },
  {
   "cell_type": "markdown",
   "metadata": {},
   "source": [
    "## Convert Model to TFJS"
   ]
  },
  {
   "cell_type": "code",
   "execution_count": null,
   "metadata": {},
   "outputs": [],
   "source": [
    "import tensorflowjs as tfjs\n",
    "\n",
    "model = tf.keras.models.load_model(\"/content/model_batik/\")\n",
    "\n",
    "tfjs.converters.tf_saved_model_conversion_v2.convert_keras_model_to_graph_model(model, \"./tfjs_model\")"
   ]
  },
  {
   "cell_type": "markdown",
   "metadata": {},
   "source": [
    "## Convert Model to TFlite"
   ]
  },
  {
   "cell_type": "code",
   "execution_count": null,
   "metadata": {},
   "outputs": [],
   "source": [
    "model_directory = 'model_batik_V2'\n",
    "\n",
    "converter = tf.lite.TFLiteConverter.from_saved_model(model_directory)\n",
    "\n",
    "tflite_model = converter.convert()\n",
    "\n",
    "with open('modelV2.tflite', 'wb') as f:\n",
    "    f.write(tflite_model)"
   ]
  }
 ],
 "metadata": {
  "colab": {
   "provenance": []
  },
  "kernelspec": {
   "display_name": "ImgCls",
   "language": "python",
   "name": "imgcls"
  },
  "language_info": {
   "codemirror_mode": {
    "name": "ipython",
    "version": 3
   },
   "file_extension": ".py",
   "mimetype": "text/x-python",
   "name": "python",
   "nbconvert_exporter": "python",
   "pygments_lexer": "ipython3",
   "version": "3.9.13"
  }
 },
 "nbformat": 4,
 "nbformat_minor": 4
}
